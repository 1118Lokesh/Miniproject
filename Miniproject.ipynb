{
 "cells": [
  {
   "cell_type": "code",
   "execution_count": 29,
   "id": "aa1083e2-18e5-4852-b35a-7bff17db3038",
   "metadata": {},
   "outputs": [],
   "source": [
    "import pandas as pd\n",
    "import matplotlib.pyplot as plt\n",
    "import seaborn as sns\n",
    "from sklearn.feature_extraction.text import CountVectorizer\n",
    "from sklearn.metrics.pairwise import cosine_similarity"
   ]
  },
  {
   "cell_type": "code",
   "execution_count": 3,
   "id": "fe6af250-0e9f-469b-8980-7cecfc60fbf9",
   "metadata": {},
   "outputs": [],
   "source": [
    "df=pd.read_csv(\"movies.csv\")"
   ]
  },
  {
   "cell_type": "code",
   "execution_count": 4,
   "id": "944b92f4-77ab-4673-bedd-891323c9232c",
   "metadata": {},
   "outputs": [
    {
     "data": {
      "text/html": [
       "<div>\n",
       "<style scoped>\n",
       "    .dataframe tbody tr th:only-of-type {\n",
       "        vertical-align: middle;\n",
       "    }\n",
       "\n",
       "    .dataframe tbody tr th {\n",
       "        vertical-align: top;\n",
       "    }\n",
       "\n",
       "    .dataframe thead th {\n",
       "        text-align: right;\n",
       "    }\n",
       "</style>\n",
       "<table border=\"1\" class=\"dataframe\">\n",
       "  <thead>\n",
       "    <tr style=\"text-align: right;\">\n",
       "      <th></th>\n",
       "      <th>name</th>\n",
       "      <th>rating</th>\n",
       "      <th>genre</th>\n",
       "      <th>year</th>\n",
       "      <th>released</th>\n",
       "      <th>score</th>\n",
       "      <th>votes</th>\n",
       "      <th>director</th>\n",
       "      <th>writer</th>\n",
       "      <th>star</th>\n",
       "      <th>country</th>\n",
       "      <th>budget</th>\n",
       "      <th>gross</th>\n",
       "      <th>company</th>\n",
       "      <th>runtime</th>\n",
       "    </tr>\n",
       "  </thead>\n",
       "  <tbody>\n",
       "    <tr>\n",
       "      <th>0</th>\n",
       "      <td>The Shining</td>\n",
       "      <td>R</td>\n",
       "      <td>Drama</td>\n",
       "      <td>1980</td>\n",
       "      <td>June 13, 1980 (United States)</td>\n",
       "      <td>8.4</td>\n",
       "      <td>927000.0</td>\n",
       "      <td>Stanley Kubrick</td>\n",
       "      <td>Stephen King</td>\n",
       "      <td>Jack Nicholson</td>\n",
       "      <td>United Kingdom</td>\n",
       "      <td>19000000.0</td>\n",
       "      <td>46998772.0</td>\n",
       "      <td>Warner Bros.</td>\n",
       "      <td>146.0</td>\n",
       "    </tr>\n",
       "    <tr>\n",
       "      <th>1</th>\n",
       "      <td>The Blue Lagoon</td>\n",
       "      <td>R</td>\n",
       "      <td>Adventure</td>\n",
       "      <td>1980</td>\n",
       "      <td>July 2, 1980 (United States)</td>\n",
       "      <td>5.8</td>\n",
       "      <td>65000.0</td>\n",
       "      <td>Randal Kleiser</td>\n",
       "      <td>Henry De Vere Stacpoole</td>\n",
       "      <td>Brooke Shields</td>\n",
       "      <td>United States</td>\n",
       "      <td>4500000.0</td>\n",
       "      <td>58853106.0</td>\n",
       "      <td>Columbia Pictures</td>\n",
       "      <td>104.0</td>\n",
       "    </tr>\n",
       "    <tr>\n",
       "      <th>2</th>\n",
       "      <td>Star Wars: Episode V - The Empire Strikes Back</td>\n",
       "      <td>PG</td>\n",
       "      <td>Action</td>\n",
       "      <td>1980</td>\n",
       "      <td>June 20, 1980 (United States)</td>\n",
       "      <td>8.7</td>\n",
       "      <td>1200000.0</td>\n",
       "      <td>Irvin Kershner</td>\n",
       "      <td>Leigh Brackett</td>\n",
       "      <td>Mark Hamill</td>\n",
       "      <td>United States</td>\n",
       "      <td>18000000.0</td>\n",
       "      <td>538375067.0</td>\n",
       "      <td>Lucasfilm</td>\n",
       "      <td>124.0</td>\n",
       "    </tr>\n",
       "    <tr>\n",
       "      <th>3</th>\n",
       "      <td>Airplane!</td>\n",
       "      <td>PG</td>\n",
       "      <td>Comedy</td>\n",
       "      <td>1980</td>\n",
       "      <td>July 2, 1980 (United States)</td>\n",
       "      <td>7.7</td>\n",
       "      <td>221000.0</td>\n",
       "      <td>Jim Abrahams</td>\n",
       "      <td>Jim Abrahams</td>\n",
       "      <td>Robert Hays</td>\n",
       "      <td>United States</td>\n",
       "      <td>3500000.0</td>\n",
       "      <td>83453539.0</td>\n",
       "      <td>Paramount Pictures</td>\n",
       "      <td>88.0</td>\n",
       "    </tr>\n",
       "    <tr>\n",
       "      <th>4</th>\n",
       "      <td>Caddyshack</td>\n",
       "      <td>R</td>\n",
       "      <td>Comedy</td>\n",
       "      <td>1980</td>\n",
       "      <td>July 25, 1980 (United States)</td>\n",
       "      <td>7.3</td>\n",
       "      <td>108000.0</td>\n",
       "      <td>Harold Ramis</td>\n",
       "      <td>Brian Doyle-Murray</td>\n",
       "      <td>Chevy Chase</td>\n",
       "      <td>United States</td>\n",
       "      <td>6000000.0</td>\n",
       "      <td>39846344.0</td>\n",
       "      <td>Orion Pictures</td>\n",
       "      <td>98.0</td>\n",
       "    </tr>\n",
       "    <tr>\n",
       "      <th>...</th>\n",
       "      <td>...</td>\n",
       "      <td>...</td>\n",
       "      <td>...</td>\n",
       "      <td>...</td>\n",
       "      <td>...</td>\n",
       "      <td>...</td>\n",
       "      <td>...</td>\n",
       "      <td>...</td>\n",
       "      <td>...</td>\n",
       "      <td>...</td>\n",
       "      <td>...</td>\n",
       "      <td>...</td>\n",
       "      <td>...</td>\n",
       "      <td>...</td>\n",
       "      <td>...</td>\n",
       "    </tr>\n",
       "    <tr>\n",
       "      <th>7663</th>\n",
       "      <td>More to Life</td>\n",
       "      <td>NaN</td>\n",
       "      <td>Drama</td>\n",
       "      <td>2020</td>\n",
       "      <td>October 23, 2020 (United States)</td>\n",
       "      <td>3.1</td>\n",
       "      <td>18.0</td>\n",
       "      <td>Joseph Ebanks</td>\n",
       "      <td>Joseph Ebanks</td>\n",
       "      <td>Shannon Bond</td>\n",
       "      <td>United States</td>\n",
       "      <td>7000.0</td>\n",
       "      <td>NaN</td>\n",
       "      <td>NaN</td>\n",
       "      <td>90.0</td>\n",
       "    </tr>\n",
       "    <tr>\n",
       "      <th>7664</th>\n",
       "      <td>Dream Round</td>\n",
       "      <td>NaN</td>\n",
       "      <td>Comedy</td>\n",
       "      <td>2020</td>\n",
       "      <td>February 7, 2020 (United States)</td>\n",
       "      <td>4.7</td>\n",
       "      <td>36.0</td>\n",
       "      <td>Dusty Dukatz</td>\n",
       "      <td>Lisa Huston</td>\n",
       "      <td>Michael Saquella</td>\n",
       "      <td>United States</td>\n",
       "      <td>NaN</td>\n",
       "      <td>NaN</td>\n",
       "      <td>Cactus Blue Entertainment</td>\n",
       "      <td>90.0</td>\n",
       "    </tr>\n",
       "    <tr>\n",
       "      <th>7665</th>\n",
       "      <td>Saving Mbango</td>\n",
       "      <td>NaN</td>\n",
       "      <td>Drama</td>\n",
       "      <td>2020</td>\n",
       "      <td>April 27, 2020 (Cameroon)</td>\n",
       "      <td>5.7</td>\n",
       "      <td>29.0</td>\n",
       "      <td>Nkanya Nkwai</td>\n",
       "      <td>Lynno Lovert</td>\n",
       "      <td>Onyama Laura</td>\n",
       "      <td>United States</td>\n",
       "      <td>58750.0</td>\n",
       "      <td>NaN</td>\n",
       "      <td>Embi Productions</td>\n",
       "      <td>NaN</td>\n",
       "    </tr>\n",
       "    <tr>\n",
       "      <th>7666</th>\n",
       "      <td>It's Just Us</td>\n",
       "      <td>NaN</td>\n",
       "      <td>Drama</td>\n",
       "      <td>2020</td>\n",
       "      <td>October 1, 2020 (United States)</td>\n",
       "      <td>NaN</td>\n",
       "      <td>NaN</td>\n",
       "      <td>James Randall</td>\n",
       "      <td>James Randall</td>\n",
       "      <td>Christina Roz</td>\n",
       "      <td>United States</td>\n",
       "      <td>15000.0</td>\n",
       "      <td>NaN</td>\n",
       "      <td>NaN</td>\n",
       "      <td>120.0</td>\n",
       "    </tr>\n",
       "    <tr>\n",
       "      <th>7667</th>\n",
       "      <td>Tee em el</td>\n",
       "      <td>NaN</td>\n",
       "      <td>Horror</td>\n",
       "      <td>2020</td>\n",
       "      <td>August 19, 2020 (United States)</td>\n",
       "      <td>5.7</td>\n",
       "      <td>7.0</td>\n",
       "      <td>Pereko Mosia</td>\n",
       "      <td>Pereko Mosia</td>\n",
       "      <td>Siyabonga Mabaso</td>\n",
       "      <td>South Africa</td>\n",
       "      <td>NaN</td>\n",
       "      <td>NaN</td>\n",
       "      <td>PK 65 Films</td>\n",
       "      <td>102.0</td>\n",
       "    </tr>\n",
       "  </tbody>\n",
       "</table>\n",
       "<p>7668 rows × 15 columns</p>\n",
       "</div>"
      ],
      "text/plain": [
       "                                                name rating      genre  year  \\\n",
       "0                                        The Shining      R      Drama  1980   \n",
       "1                                    The Blue Lagoon      R  Adventure  1980   \n",
       "2     Star Wars: Episode V - The Empire Strikes Back     PG     Action  1980   \n",
       "3                                          Airplane!     PG     Comedy  1980   \n",
       "4                                         Caddyshack      R     Comedy  1980   \n",
       "...                                              ...    ...        ...   ...   \n",
       "7663                                    More to Life    NaN      Drama  2020   \n",
       "7664                                     Dream Round    NaN     Comedy  2020   \n",
       "7665                                   Saving Mbango    NaN      Drama  2020   \n",
       "7666                                    It's Just Us    NaN      Drama  2020   \n",
       "7667                                       Tee em el    NaN     Horror  2020   \n",
       "\n",
       "                              released  score      votes         director  \\\n",
       "0        June 13, 1980 (United States)    8.4   927000.0  Stanley Kubrick   \n",
       "1         July 2, 1980 (United States)    5.8    65000.0   Randal Kleiser   \n",
       "2        June 20, 1980 (United States)    8.7  1200000.0   Irvin Kershner   \n",
       "3         July 2, 1980 (United States)    7.7   221000.0     Jim Abrahams   \n",
       "4        July 25, 1980 (United States)    7.3   108000.0     Harold Ramis   \n",
       "...                                ...    ...        ...              ...   \n",
       "7663  October 23, 2020 (United States)    3.1       18.0    Joseph Ebanks   \n",
       "7664  February 7, 2020 (United States)    4.7       36.0     Dusty Dukatz   \n",
       "7665         April 27, 2020 (Cameroon)    5.7       29.0     Nkanya Nkwai   \n",
       "7666   October 1, 2020 (United States)    NaN        NaN    James Randall   \n",
       "7667   August 19, 2020 (United States)    5.7        7.0     Pereko Mosia   \n",
       "\n",
       "                       writer              star         country      budget  \\\n",
       "0                Stephen King    Jack Nicholson  United Kingdom  19000000.0   \n",
       "1     Henry De Vere Stacpoole    Brooke Shields   United States   4500000.0   \n",
       "2              Leigh Brackett       Mark Hamill   United States  18000000.0   \n",
       "3                Jim Abrahams       Robert Hays   United States   3500000.0   \n",
       "4          Brian Doyle-Murray       Chevy Chase   United States   6000000.0   \n",
       "...                       ...               ...             ...         ...   \n",
       "7663            Joseph Ebanks      Shannon Bond   United States      7000.0   \n",
       "7664              Lisa Huston  Michael Saquella   United States         NaN   \n",
       "7665             Lynno Lovert      Onyama Laura   United States     58750.0   \n",
       "7666            James Randall     Christina Roz   United States     15000.0   \n",
       "7667             Pereko Mosia  Siyabonga Mabaso    South Africa         NaN   \n",
       "\n",
       "            gross                    company  runtime  \n",
       "0      46998772.0               Warner Bros.    146.0  \n",
       "1      58853106.0          Columbia Pictures    104.0  \n",
       "2     538375067.0                  Lucasfilm    124.0  \n",
       "3      83453539.0         Paramount Pictures     88.0  \n",
       "4      39846344.0             Orion Pictures     98.0  \n",
       "...           ...                        ...      ...  \n",
       "7663          NaN                        NaN     90.0  \n",
       "7664          NaN  Cactus Blue Entertainment     90.0  \n",
       "7665          NaN           Embi Productions      NaN  \n",
       "7666          NaN                        NaN    120.0  \n",
       "7667          NaN                PK 65 Films    102.0  \n",
       "\n",
       "[7668 rows x 15 columns]"
      ]
     },
     "execution_count": 4,
     "metadata": {},
     "output_type": "execute_result"
    }
   ],
   "source": [
    "df"
   ]
  },
  {
   "cell_type": "code",
   "execution_count": 5,
   "id": "55b9ed62-3496-4c00-ab22-b2e8ea767116",
   "metadata": {},
   "outputs": [
    {
     "name": "stdout",
     "output_type": "stream",
     "text": [
      "<class 'pandas.core.frame.DataFrame'>\n",
      "RangeIndex: 7668 entries, 0 to 7667\n",
      "Data columns (total 15 columns):\n",
      " #   Column    Non-Null Count  Dtype  \n",
      "---  ------    --------------  -----  \n",
      " 0   name      7668 non-null   object \n",
      " 1   rating    7591 non-null   object \n",
      " 2   genre     7668 non-null   object \n",
      " 3   year      7668 non-null   int64  \n",
      " 4   released  7666 non-null   object \n",
      " 5   score     7665 non-null   float64\n",
      " 6   votes     7665 non-null   float64\n",
      " 7   director  7668 non-null   object \n",
      " 8   writer    7665 non-null   object \n",
      " 9   star      7667 non-null   object \n",
      " 10  country   7665 non-null   object \n",
      " 11  budget    5497 non-null   float64\n",
      " 12  gross     7479 non-null   float64\n",
      " 13  company   7651 non-null   object \n",
      " 14  runtime   7664 non-null   float64\n",
      "dtypes: float64(5), int64(1), object(9)\n",
      "memory usage: 898.7+ KB\n"
     ]
    }
   ],
   "source": [
    "df.info()"
   ]
  },
  {
   "cell_type": "code",
   "execution_count": 6,
   "id": "a3ccc2d2-01cd-4097-bbc1-6f92f25dd2bb",
   "metadata": {},
   "outputs": [
    {
     "data": {
      "text/html": [
       "<div>\n",
       "<style scoped>\n",
       "    .dataframe tbody tr th:only-of-type {\n",
       "        vertical-align: middle;\n",
       "    }\n",
       "\n",
       "    .dataframe tbody tr th {\n",
       "        vertical-align: top;\n",
       "    }\n",
       "\n",
       "    .dataframe thead th {\n",
       "        text-align: right;\n",
       "    }\n",
       "</style>\n",
       "<table border=\"1\" class=\"dataframe\">\n",
       "  <thead>\n",
       "    <tr style=\"text-align: right;\">\n",
       "      <th></th>\n",
       "      <th>name</th>\n",
       "      <th>rating</th>\n",
       "      <th>genre</th>\n",
       "      <th>year</th>\n",
       "      <th>released</th>\n",
       "      <th>score</th>\n",
       "      <th>votes</th>\n",
       "      <th>director</th>\n",
       "      <th>writer</th>\n",
       "      <th>star</th>\n",
       "      <th>country</th>\n",
       "      <th>budget</th>\n",
       "      <th>gross</th>\n",
       "      <th>company</th>\n",
       "      <th>runtime</th>\n",
       "    </tr>\n",
       "  </thead>\n",
       "  <tbody>\n",
       "    <tr>\n",
       "      <th>0</th>\n",
       "      <td>The Shining</td>\n",
       "      <td>R</td>\n",
       "      <td>Drama</td>\n",
       "      <td>1980</td>\n",
       "      <td>June 13, 1980 (United States)</td>\n",
       "      <td>8.4</td>\n",
       "      <td>927000.0</td>\n",
       "      <td>Stanley Kubrick</td>\n",
       "      <td>Stephen King</td>\n",
       "      <td>Jack Nicholson</td>\n",
       "      <td>United Kingdom</td>\n",
       "      <td>19000000.0</td>\n",
       "      <td>46998772.0</td>\n",
       "      <td>Warner Bros.</td>\n",
       "      <td>146.0</td>\n",
       "    </tr>\n",
       "    <tr>\n",
       "      <th>1</th>\n",
       "      <td>The Blue Lagoon</td>\n",
       "      <td>R</td>\n",
       "      <td>Adventure</td>\n",
       "      <td>1980</td>\n",
       "      <td>July 2, 1980 (United States)</td>\n",
       "      <td>5.8</td>\n",
       "      <td>65000.0</td>\n",
       "      <td>Randal Kleiser</td>\n",
       "      <td>Henry De Vere Stacpoole</td>\n",
       "      <td>Brooke Shields</td>\n",
       "      <td>United States</td>\n",
       "      <td>4500000.0</td>\n",
       "      <td>58853106.0</td>\n",
       "      <td>Columbia Pictures</td>\n",
       "      <td>104.0</td>\n",
       "    </tr>\n",
       "    <tr>\n",
       "      <th>2</th>\n",
       "      <td>Star Wars: Episode V - The Empire Strikes Back</td>\n",
       "      <td>PG</td>\n",
       "      <td>Action</td>\n",
       "      <td>1980</td>\n",
       "      <td>June 20, 1980 (United States)</td>\n",
       "      <td>8.7</td>\n",
       "      <td>1200000.0</td>\n",
       "      <td>Irvin Kershner</td>\n",
       "      <td>Leigh Brackett</td>\n",
       "      <td>Mark Hamill</td>\n",
       "      <td>United States</td>\n",
       "      <td>18000000.0</td>\n",
       "      <td>538375067.0</td>\n",
       "      <td>Lucasfilm</td>\n",
       "      <td>124.0</td>\n",
       "    </tr>\n",
       "    <tr>\n",
       "      <th>3</th>\n",
       "      <td>Airplane!</td>\n",
       "      <td>PG</td>\n",
       "      <td>Comedy</td>\n",
       "      <td>1980</td>\n",
       "      <td>July 2, 1980 (United States)</td>\n",
       "      <td>7.7</td>\n",
       "      <td>221000.0</td>\n",
       "      <td>Jim Abrahams</td>\n",
       "      <td>Jim Abrahams</td>\n",
       "      <td>Robert Hays</td>\n",
       "      <td>United States</td>\n",
       "      <td>3500000.0</td>\n",
       "      <td>83453539.0</td>\n",
       "      <td>Paramount Pictures</td>\n",
       "      <td>88.0</td>\n",
       "    </tr>\n",
       "    <tr>\n",
       "      <th>4</th>\n",
       "      <td>Caddyshack</td>\n",
       "      <td>R</td>\n",
       "      <td>Comedy</td>\n",
       "      <td>1980</td>\n",
       "      <td>July 25, 1980 (United States)</td>\n",
       "      <td>7.3</td>\n",
       "      <td>108000.0</td>\n",
       "      <td>Harold Ramis</td>\n",
       "      <td>Brian Doyle-Murray</td>\n",
       "      <td>Chevy Chase</td>\n",
       "      <td>United States</td>\n",
       "      <td>6000000.0</td>\n",
       "      <td>39846344.0</td>\n",
       "      <td>Orion Pictures</td>\n",
       "      <td>98.0</td>\n",
       "    </tr>\n",
       "  </tbody>\n",
       "</table>\n",
       "</div>"
      ],
      "text/plain": [
       "                                             name rating      genre  year  \\\n",
       "0                                     The Shining      R      Drama  1980   \n",
       "1                                 The Blue Lagoon      R  Adventure  1980   \n",
       "2  Star Wars: Episode V - The Empire Strikes Back     PG     Action  1980   \n",
       "3                                       Airplane!     PG     Comedy  1980   \n",
       "4                                      Caddyshack      R     Comedy  1980   \n",
       "\n",
       "                        released  score      votes         director  \\\n",
       "0  June 13, 1980 (United States)    8.4   927000.0  Stanley Kubrick   \n",
       "1   July 2, 1980 (United States)    5.8    65000.0   Randal Kleiser   \n",
       "2  June 20, 1980 (United States)    8.7  1200000.0   Irvin Kershner   \n",
       "3   July 2, 1980 (United States)    7.7   221000.0     Jim Abrahams   \n",
       "4  July 25, 1980 (United States)    7.3   108000.0     Harold Ramis   \n",
       "\n",
       "                    writer            star         country      budget  \\\n",
       "0             Stephen King  Jack Nicholson  United Kingdom  19000000.0   \n",
       "1  Henry De Vere Stacpoole  Brooke Shields   United States   4500000.0   \n",
       "2           Leigh Brackett     Mark Hamill   United States  18000000.0   \n",
       "3             Jim Abrahams     Robert Hays   United States   3500000.0   \n",
       "4       Brian Doyle-Murray     Chevy Chase   United States   6000000.0   \n",
       "\n",
       "         gross             company  runtime  \n",
       "0   46998772.0        Warner Bros.    146.0  \n",
       "1   58853106.0   Columbia Pictures    104.0  \n",
       "2  538375067.0           Lucasfilm    124.0  \n",
       "3   83453539.0  Paramount Pictures     88.0  \n",
       "4   39846344.0      Orion Pictures     98.0  "
      ]
     },
     "execution_count": 6,
     "metadata": {},
     "output_type": "execute_result"
    }
   ],
   "source": [
    "df.head()"
   ]
  },
  {
   "cell_type": "code",
   "execution_count": 7,
   "id": "a2cfe654-c273-4e08-9ca8-b57c9e1e503c",
   "metadata": {},
   "outputs": [
    {
     "data": {
      "text/plain": [
       "Index(['name', 'rating', 'genre', 'year', 'released', 'score', 'votes',\n",
       "       'director', 'writer', 'star', 'country', 'budget', 'gross', 'company',\n",
       "       'runtime'],\n",
       "      dtype='object')"
      ]
     },
     "execution_count": 7,
     "metadata": {},
     "output_type": "execute_result"
    }
   ],
   "source": [
    "df.columns"
   ]
  },
  {
   "cell_type": "code",
   "execution_count": 8,
   "id": "9353edf4-caea-410c-aecb-8bd3599f0c42",
   "metadata": {},
   "outputs": [
    {
     "data": {
      "text/plain": [
       "(7668, 15)"
      ]
     },
     "execution_count": 8,
     "metadata": {},
     "output_type": "execute_result"
    }
   ],
   "source": [
    "df.shape"
   ]
  },
  {
   "cell_type": "code",
   "execution_count": 9,
   "id": "7da2eda0-9793-4c29-9a22-9fb5730b5033",
   "metadata": {},
   "outputs": [
    {
     "data": {
      "text/plain": [
       "0       False\n",
       "1       False\n",
       "2       False\n",
       "3       False\n",
       "4       False\n",
       "        ...  \n",
       "7663     True\n",
       "7664     True\n",
       "7665     True\n",
       "7666     True\n",
       "7667     True\n",
       "Length: 7668, dtype: bool"
      ]
     },
     "execution_count": 9,
     "metadata": {},
     "output_type": "execute_result"
    }
   ],
   "source": [
    "df.isnull().any(axis=1)\n"
   ]
  },
  {
   "cell_type": "code",
   "execution_count": 10,
   "id": "8ae35a9f-ba6f-40c1-aa72-0431d60d85a0",
   "metadata": {},
   "outputs": [
    {
     "name": "stdout",
     "output_type": "stream",
     "text": [
      "Count of columns in the data is: 15\n"
     ]
    }
   ],
   "source": [
    "print(\"Count of columns in the data is:\",len(df.columns))\n"
   ]
  },
  {
   "cell_type": "code",
   "execution_count": 11,
   "id": "6e399237-69f4-46de-9716-b9bca9bcbbc0",
   "metadata": {},
   "outputs": [
    {
     "name": "stdout",
     "output_type": "stream",
     "text": [
      "count of rows in the data is: 7668\n"
     ]
    }
   ],
   "source": [
    "print(\"count of rows in the data is:\",len(df))"
   ]
  },
  {
   "cell_type": "code",
   "execution_count": 12,
   "id": "6a829296-411c-436c-a737-d1488d07ce51",
   "metadata": {},
   "outputs": [],
   "source": [
    "def get_title_from_index(index):\n",
    "    return df[df.index == index]['name'].values[0]\n",
    "\n",
    "def get_index_from_title(name):\n",
    "    return df[df.name == name].index.values[0]"
   ]
  },
  {
   "cell_type": "code",
   "execution_count": 13,
   "id": "77124666-ea0d-4dc6-b8df-865be835b822",
   "metadata": {},
   "outputs": [],
   "source": [
    "features =['name','genre','director']"
   ]
  },
  {
   "cell_type": "code",
   "execution_count": 14,
   "id": "8f91cdf2-31f8-4bd6-84e5-eacf33949d9d",
   "metadata": {},
   "outputs": [],
   "source": [
    "for feature in features:\n",
    "    df[feature]=df[feature].fillna('')"
   ]
  },
  {
   "cell_type": "code",
   "execution_count": 15,
   "id": "1ee9917a-c7e3-4a17-b651-13937afe67c9",
   "metadata": {},
   "outputs": [
    {
     "data": {
      "text/plain": [
       "0"
      ]
     },
     "execution_count": 15,
     "metadata": {},
     "output_type": "execute_result"
    }
   ],
   "source": [
    "df['name'].isnull().sum()"
   ]
  },
  {
   "cell_type": "code",
   "execution_count": 16,
   "id": "a32acddd-3bd0-4157-b8d6-038899761379",
   "metadata": {},
   "outputs": [
    {
     "data": {
      "text/plain": [
       "0"
      ]
     },
     "execution_count": 16,
     "metadata": {},
     "output_type": "execute_result"
    }
   ],
   "source": [
    "df['genre'].isnull().sum()"
   ]
  },
  {
   "cell_type": "code",
   "execution_count": 17,
   "id": "e815f111-6af5-406c-ad5d-c12c1a41f721",
   "metadata": {},
   "outputs": [],
   "source": [
    "df['combined_features']=df.apply(lambda row:row['name']+'|'+row['genre']+'|'+row['director'],axis=1)\n",
    "                                 \n",
    "                                 "
   ]
  },
  {
   "cell_type": "code",
   "execution_count": 18,
   "id": "27ae37bd-5f60-4e89-9662-115c1f4e4f79",
   "metadata": {},
   "outputs": [
    {
     "data": {
      "text/plain": [
       "0                       The Shining|Drama|Stanley Kubrick\n",
       "1                The Blue Lagoon|Adventure|Randal Kleiser\n",
       "2       Star Wars: Episode V - The Empire Strikes Back...\n",
       "3                           Airplane!|Comedy|Jim Abrahams\n",
       "4                          Caddyshack|Comedy|Harold Ramis\n",
       "                              ...                        \n",
       "7663                     More to Life|Drama|Joseph Ebanks\n",
       "7664                      Dream Round|Comedy|Dusty Dukatz\n",
       "7665                     Saving Mbango|Drama|Nkanya Nkwai\n",
       "7666                     It's Just Us|Drama|James Randall\n",
       "7667                        Tee em el|Horror|Pereko Mosia\n",
       "Name: combined_features, Length: 7668, dtype: object"
      ]
     },
     "execution_count": 18,
     "metadata": {},
     "output_type": "execute_result"
    }
   ],
   "source": [
    "df.combined_features"
   ]
  },
  {
   "cell_type": "code",
   "execution_count": 19,
   "id": "7ea8551c-87b0-44d5-a4c1-29c1700ce5e6",
   "metadata": {},
   "outputs": [],
   "source": [
    "vectorizer=CountVectorizer()\n",
    "feature_matrix=vectorizer.fit_transform(df['combined_features'])"
   ]
  },
  {
   "cell_type": "code",
   "execution_count": 20,
   "id": "60c07e65-2744-4dc5-9665-d2aec46ff64b",
   "metadata": {},
   "outputs": [
    {
     "name": "stdout",
     "output_type": "stream",
     "text": [
      "[[1.         0.18257419 0.14142136 ... 0.2        0.18257419 0.        ]\n",
      " [0.18257419 1.         0.12909944 ... 0.         0.         0.        ]\n",
      " [0.14142136 0.12909944 1.         ... 0.         0.         0.        ]\n",
      " ...\n",
      " [0.2        0.         0.         ... 1.         0.18257419 0.        ]\n",
      " [0.18257419 0.         0.         ... 0.18257419 1.         0.        ]\n",
      " [0.         0.         0.         ... 0.         0.         1.        ]]\n"
     ]
    }
   ],
   "source": [
    "cosine_similarities=cosine_similarity(feature_matrix)\n",
    "print(cosine_similarities)"
   ]
  },
  {
   "cell_type": "code",
   "execution_count": 21,
   "id": "7fe40ca1-1618-4984-8df2-106667c52c4e",
   "metadata": {},
   "outputs": [
    {
     "data": {
      "text/html": [
       "<div>\n",
       "<style scoped>\n",
       "    .dataframe tbody tr th:only-of-type {\n",
       "        vertical-align: middle;\n",
       "    }\n",
       "\n",
       "    .dataframe tbody tr th {\n",
       "        vertical-align: top;\n",
       "    }\n",
       "\n",
       "    .dataframe thead th {\n",
       "        text-align: right;\n",
       "    }\n",
       "</style>\n",
       "<table border=\"1\" class=\"dataframe\">\n",
       "  <thead>\n",
       "    <tr style=\"text-align: right;\">\n",
       "      <th></th>\n",
       "      <th>name</th>\n",
       "      <th>genre</th>\n",
       "      <th>director</th>\n",
       "    </tr>\n",
       "  </thead>\n",
       "  <tbody>\n",
       "    <tr>\n",
       "      <th>0</th>\n",
       "      <td>The Shining</td>\n",
       "      <td>Drama</td>\n",
       "      <td>Stanley Kubrick</td>\n",
       "    </tr>\n",
       "    <tr>\n",
       "      <th>1</th>\n",
       "      <td>The Blue Lagoon</td>\n",
       "      <td>Adventure</td>\n",
       "      <td>Randal Kleiser</td>\n",
       "    </tr>\n",
       "    <tr>\n",
       "      <th>2</th>\n",
       "      <td>Star Wars: Episode V - The Empire Strikes Back</td>\n",
       "      <td>Action</td>\n",
       "      <td>Irvin Kershner</td>\n",
       "    </tr>\n",
       "    <tr>\n",
       "      <th>3</th>\n",
       "      <td>Airplane!</td>\n",
       "      <td>Comedy</td>\n",
       "      <td>Jim Abrahams</td>\n",
       "    </tr>\n",
       "    <tr>\n",
       "      <th>4</th>\n",
       "      <td>Caddyshack</td>\n",
       "      <td>Comedy</td>\n",
       "      <td>Harold Ramis</td>\n",
       "    </tr>\n",
       "    <tr>\n",
       "      <th>5</th>\n",
       "      <td>Friday the 13th</td>\n",
       "      <td>Horror</td>\n",
       "      <td>Sean S. Cunningham</td>\n",
       "    </tr>\n",
       "    <tr>\n",
       "      <th>6</th>\n",
       "      <td>The Blues Brothers</td>\n",
       "      <td>Action</td>\n",
       "      <td>John Landis</td>\n",
       "    </tr>\n",
       "    <tr>\n",
       "      <th>7</th>\n",
       "      <td>Raging Bull</td>\n",
       "      <td>Biography</td>\n",
       "      <td>Martin Scorsese</td>\n",
       "    </tr>\n",
       "    <tr>\n",
       "      <th>8</th>\n",
       "      <td>Superman II</td>\n",
       "      <td>Action</td>\n",
       "      <td>Richard Lester</td>\n",
       "    </tr>\n",
       "    <tr>\n",
       "      <th>9</th>\n",
       "      <td>The Long Riders</td>\n",
       "      <td>Biography</td>\n",
       "      <td>Walter Hill</td>\n",
       "    </tr>\n",
       "    <tr>\n",
       "      <th>10</th>\n",
       "      <td>Any Which Way You Can</td>\n",
       "      <td>Action</td>\n",
       "      <td>Buddy Van Horn</td>\n",
       "    </tr>\n",
       "    <tr>\n",
       "      <th>11</th>\n",
       "      <td>The Gods Must Be Crazy</td>\n",
       "      <td>Adventure</td>\n",
       "      <td>Jamie Uys</td>\n",
       "    </tr>\n",
       "    <tr>\n",
       "      <th>12</th>\n",
       "      <td>Popeye</td>\n",
       "      <td>Adventure</td>\n",
       "      <td>Robert Altman</td>\n",
       "    </tr>\n",
       "    <tr>\n",
       "      <th>13</th>\n",
       "      <td>Ordinary People</td>\n",
       "      <td>Drama</td>\n",
       "      <td>Robert Redford</td>\n",
       "    </tr>\n",
       "    <tr>\n",
       "      <th>14</th>\n",
       "      <td>Dressed to Kill</td>\n",
       "      <td>Crime</td>\n",
       "      <td>Brian De Palma</td>\n",
       "    </tr>\n",
       "    <tr>\n",
       "      <th>15</th>\n",
       "      <td>Somewhere in Time</td>\n",
       "      <td>Drama</td>\n",
       "      <td>Jeannot Szwarc</td>\n",
       "    </tr>\n",
       "    <tr>\n",
       "      <th>16</th>\n",
       "      <td>Fame</td>\n",
       "      <td>Drama</td>\n",
       "      <td>Alan Parker</td>\n",
       "    </tr>\n",
       "    <tr>\n",
       "      <th>17</th>\n",
       "      <td>9 to 5</td>\n",
       "      <td>Comedy</td>\n",
       "      <td>Colin Higgins</td>\n",
       "    </tr>\n",
       "    <tr>\n",
       "      <th>18</th>\n",
       "      <td>The Fog</td>\n",
       "      <td>Horror</td>\n",
       "      <td>John Carpenter</td>\n",
       "    </tr>\n",
       "    <tr>\n",
       "      <th>19</th>\n",
       "      <td>Stir Crazy</td>\n",
       "      <td>Comedy</td>\n",
       "      <td>Sidney Poitier</td>\n",
       "    </tr>\n",
       "  </tbody>\n",
       "</table>\n",
       "</div>"
      ],
      "text/plain": [
       "                                              name      genre  \\\n",
       "0                                      The Shining      Drama   \n",
       "1                                  The Blue Lagoon  Adventure   \n",
       "2   Star Wars: Episode V - The Empire Strikes Back     Action   \n",
       "3                                        Airplane!     Comedy   \n",
       "4                                       Caddyshack     Comedy   \n",
       "5                                  Friday the 13th     Horror   \n",
       "6                               The Blues Brothers     Action   \n",
       "7                                      Raging Bull  Biography   \n",
       "8                                      Superman II     Action   \n",
       "9                                  The Long Riders  Biography   \n",
       "10                           Any Which Way You Can     Action   \n",
       "11                          The Gods Must Be Crazy  Adventure   \n",
       "12                                          Popeye  Adventure   \n",
       "13                                 Ordinary People      Drama   \n",
       "14                                 Dressed to Kill      Crime   \n",
       "15                               Somewhere in Time      Drama   \n",
       "16                                            Fame      Drama   \n",
       "17                                          9 to 5     Comedy   \n",
       "18                                         The Fog     Horror   \n",
       "19                                      Stir Crazy     Comedy   \n",
       "\n",
       "              director  \n",
       "0      Stanley Kubrick  \n",
       "1       Randal Kleiser  \n",
       "2       Irvin Kershner  \n",
       "3         Jim Abrahams  \n",
       "4         Harold Ramis  \n",
       "5   Sean S. Cunningham  \n",
       "6          John Landis  \n",
       "7      Martin Scorsese  \n",
       "8       Richard Lester  \n",
       "9          Walter Hill  \n",
       "10      Buddy Van Horn  \n",
       "11           Jamie Uys  \n",
       "12       Robert Altman  \n",
       "13      Robert Redford  \n",
       "14      Brian De Palma  \n",
       "15      Jeannot Szwarc  \n",
       "16         Alan Parker  \n",
       "17       Colin Higgins  \n",
       "18      John Carpenter  \n",
       "19      Sidney Poitier  "
      ]
     },
     "execution_count": 21,
     "metadata": {},
     "output_type": "execute_result"
    }
   ],
   "source": [
    "df[['name','genre','director']].head(20)"
   ]
  },
  {
   "cell_type": "code",
   "execution_count": 22,
   "id": "d33e871c-1896-49d0-a404-bf366ebb26b9",
   "metadata": {},
   "outputs": [
    {
     "name": "stdin",
     "output_type": "stream",
     "text": [
      "\n",
      "Enter a movie that you liked: Fame\n"
     ]
    },
    {
     "name": "stdout",
     "output_type": "stream",
     "text": [
      "\n",
      "Top 5 similar movies to Fame are: \n",
      "\n",
      "Birdy\n",
      "Shoot the Moon\n",
      "Pink Floyd: The Wall\n",
      "Come See the Paradise\n",
      "Rollover\n"
     ]
    }
   ],
   "source": [
    "# Taking input from user\n",
    "movie_user_likes= input(\"\\nEnter a movie that you liked:\")\n",
    "\n",
    "# getting the index of the movie that the user Likes\n",
    "movie_index = get_index_from_title(movie_user_likes)\n",
    "# getting similar all movies of the movie that the user tikes\n",
    "similar_movies= list(enumerate(cosine_similarities [movie_index]))\n",
    "\n",
    "# sorting similar movies by similarity score in descending order\n",
    "sorted_similar_movies= sorted(similar_movies, key=lambda x: x[1],reverse=True)[1:]\n",
    "\n",
    "# print the top 5 simitar movies\n",
    "print(\"\\nTop 5 similar movies to \"+movie_user_likes+\" are: \\n\")\n",
    "i=0\n",
    "for element in sorted_similar_movies:\n",
    "    print( get_title_from_index(element[0]))\n",
    "    i = i+1\n",
    "    if i>=5:\n",
    "        break"
   ]
  },
  {
   "cell_type": "code",
   "execution_count": 35,
   "id": "010d0683-273a-4d1e-b896-8035f866a2e5",
   "metadata": {},
   "outputs": [
    {
     "data": {
      "image/png": "[encoded data removed]",
      "text/plain": [
       "<Figure size 1600x1200 with 1 Axes>"
      ]
     },
     "metadata": {},
     "output_type": "display_data"
    }
   ],
   "source": [
    "similarity_scores = [element[1] for element in sorted_similar_movies]\n",
    "plt.figure(figsize=(16, 12))\n",
    "plt.boxplot(similarity_scores)\n",
    "plt.title('Similarity Scores of Similar Movies')\n",
    "plt.ylabel('Similarity Score')\n",
    "plt.show()"
   ]
  },
  {
   "cell_type": "code",
   "execution_count": 37,
   "id": "c0048fdc-8cbd-4502-a262-9057bc84b9ff",
   "metadata": {},
   "outputs": [
    {
     "data": {
      "image/png": "[encoded data removed]",
      "text/plain": [
       "<Figure size 640x480 with 1 Axes>"
      ]
     },
     "metadata": {},
     "output_type": "display_data"
    }
   ],
   "source": [
    "import matplotlib.pyplot as plt\n",
    "\n",
    "categories = ['genre', 'score', 'rating']\n",
    "values = [20, 35, 30, ]\n",
    "plt.bar(categories, values)\n",
    "plt.xlabel('Categories')\n",
    "plt.ylabel('Values')\n",
    "plt.title('Bar Graph')\n",
    "plt.show()\n"
   ]
  },
  {
   "cell_type": "code",
   "execution_count": 38,
   "id": "4aca243c-8f44-4854-b3d6-0f348578712b",
   "metadata": {},
   "outputs": [
    {
     "data": {
      "image/png": "[encoded data removed]",
      "text/plain": [
       "<Figure size 1000x600 with 1 Axes>"
      ]
     },
     "metadata": {},
     "output_type": "display_data"
    }
   ],
   "source": [
    "similarity_scores = [element[1] for element in sorted_similar_movies]\n",
    "plt.figure(figsize=(10, 6))\n",
    "sns.histplot(similarity_scores, bins=20, kde=True)\n",
    "plt.title('Distribution of Similarity Scores')\n",
    "plt.xlabel('Similarity Score')\n",
    "plt.ylabel('Frequency')\n",
    "plt.show()"
   ]
  },
  {
   "cell_type": "code",
   "execution_count": null,
   "id": "ab61c6bd-eea3-4bca-910e-eb02538af383",
   "metadata": {},
   "outputs": [],
   "source": []
  }
 ],
 "metadata": {
  "kernelspec": {
   "display_name": "Python 3 (ipykernel)",
   "language": "python",
   "name": "python3"
  },
  "language_info": {
   "codemirror_mode": {
    "name": "ipython",
    "version": 3
   },
   "file_extension": ".py",
   "mimetype": "text/x-python",
   "name": "python",
   "nbconvert_exporter": "python",
   "pygments_lexer": "ipython3",
   "version": "3.12.0"
  }
 },
 "nbformat": 4,
 "nbformat_minor": 5
}
